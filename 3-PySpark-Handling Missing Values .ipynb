{
 "cells": [
  {
   "cell_type": "markdown",
   "id": "ae0043ea",
   "metadata": {},
   "source": [
    "## Pyspark Handling Missing Values\n",
    "1. Dropping Columns\n",
    "2. Dropping Rows\n",
    "3. Various Parameter In Dropping functionalities\n",
    "4. Handling Missing values by Mean, Median and Mode"
   ]
  },
  {
   "cell_type": "markdown",
   "id": "2ce59f84",
   "metadata": {},
   "source": [
    "# 1. Dropping Columns\n"
   ]
  },
  {
   "cell_type": "code",
   "execution_count": 1,
   "id": "52ae4021",
   "metadata": {},
   "outputs": [],
   "source": [
    "from pyspark.sql import SparkSession\n",
    "spark = SparkSession.builder.appName('Practice').getOrCreate()"
   ]
  },
  {
   "cell_type": "code",
   "execution_count": 2,
   "id": "1979471b",
   "metadata": {},
   "outputs": [],
   "source": [
    "df_pyspark = spark.read.csv('test2.csv', header='True', inferSchema='True')"
   ]
  },
  {
   "cell_type": "code",
   "execution_count": 3,
   "id": "4cabb393",
   "metadata": {},
   "outputs": [
    {
     "data": {
      "text/plain": [
       "DataFrame[Name: string, Age: int, Experience: int, Salary: int]"
      ]
     },
     "execution_count": 3,
     "metadata": {},
     "output_type": "execute_result"
    }
   ],
   "source": [
    "df_pyspark"
   ]
  },
  {
   "cell_type": "code",
   "execution_count": 4,
   "id": "9b9c85d8",
   "metadata": {
    "scrolled": true
   },
   "outputs": [
    {
     "name": "stdout",
     "output_type": "stream",
     "text": [
      "+---------+----+----------+------+\n",
      "|     Name| Age|Experience|Salary|\n",
      "+---------+----+----------+------+\n",
      "| muhammed|  25|         2|  5000|\n",
      "|    Ahmed|  32|         6|  7000|\n",
      "|Abdulaziz|  53|        25| 40000|\n",
      "|   Sherif|  44|        14| 30000|\n",
      "|  hussien|  46|        12| 25000|\n",
      "|      Ali|  29|         6| 11000|\n",
      "|     Zein|  38|         8| 12000|\n",
      "|     Adam|NULL|      NULL|  NULL|\n",
      "|     NULL|  36|         6|  NULL|\n",
      "+---------+----+----------+------+\n",
      "\n"
     ]
    }
   ],
   "source": [
    "df_pyspark.show()"
   ]
  },
  {
   "cell_type": "code",
   "execution_count": 5,
   "id": "307b2c94",
   "metadata": {},
   "outputs": [
    {
     "name": "stdout",
     "output_type": "stream",
     "text": [
      "+---------+---+----------+------+\n",
      "|     Name|Age|Experience|Salary|\n",
      "+---------+---+----------+------+\n",
      "| muhammed| 25|         2|  5000|\n",
      "|    Ahmed| 32|         6|  7000|\n",
      "|Abdulaziz| 53|        25| 40000|\n",
      "|   Sherif| 44|        14| 30000|\n",
      "|  hussien| 46|        12| 25000|\n",
      "|      Ali| 29|         6| 11000|\n",
      "|     Zein| 38|         8| 12000|\n",
      "+---------+---+----------+------+\n",
      "\n"
     ]
    }
   ],
   "source": [
    "df_pyspark.na.drop().show()"
   ]
  },
  {
   "cell_type": "markdown",
   "id": "67bce9be",
   "metadata": {},
   "source": [
    "# drop() Parameters\n",
    "----------\n",
    "### 1. how : str, optional\n",
    "    'any' or 'all'.\n",
    "    If 'any', drop a row if it contains any nulls.\n",
    "    If 'all', drop a row only if all its values are null.\n",
    "### 2. thresh: int, optional\n",
    "    default None\n",
    "    If specified, drop rows that have less than `thresh` non-null values.\n",
    "    This overwrites the `how` parameter.\n",
    "### 3. subset : str, tuple or list, optional\n",
    "    optional list of column names to only drop from it .\n",
    "\n",
    "Returns\n",
    "-------\n",
    ":class:`DataFrame`\n",
    "    DataFrame with null only rows excluded."
   ]
  },
  {
   "cell_type": "code",
   "execution_count": 6,
   "id": "8259f411",
   "metadata": {},
   "outputs": [
    {
     "name": "stdout",
     "output_type": "stream",
     "text": [
      "+---------+---+----------+------+\n",
      "|     Name|Age|Experience|Salary|\n",
      "+---------+---+----------+------+\n",
      "| muhammed| 25|         2|  5000|\n",
      "|    Ahmed| 32|         6|  7000|\n",
      "|Abdulaziz| 53|        25| 40000|\n",
      "|   Sherif| 44|        14| 30000|\n",
      "|  hussien| 46|        12| 25000|\n",
      "|      Ali| 29|         6| 11000|\n",
      "|     Zein| 38|         8| 12000|\n",
      "+---------+---+----------+------+\n",
      "\n"
     ]
    }
   ],
   "source": [
    "df_pyspark.na.drop(how='any').show()"
   ]
  },
  {
   "cell_type": "code",
   "execution_count": 7,
   "id": "15451dba",
   "metadata": {},
   "outputs": [
    {
     "name": "stdout",
     "output_type": "stream",
     "text": [
      "+---------+----+----------+------+\n",
      "|     Name| Age|Experience|Salary|\n",
      "+---------+----+----------+------+\n",
      "| muhammed|  25|         2|  5000|\n",
      "|    Ahmed|  32|         6|  7000|\n",
      "|Abdulaziz|  53|        25| 40000|\n",
      "|   Sherif|  44|        14| 30000|\n",
      "|  hussien|  46|        12| 25000|\n",
      "|      Ali|  29|         6| 11000|\n",
      "|     Zein|  38|         8| 12000|\n",
      "|     Adam|NULL|      NULL|  NULL|\n",
      "|     NULL|  36|         6|  NULL|\n",
      "+---------+----+----------+------+\n",
      "\n"
     ]
    }
   ],
   "source": [
    "df_pyspark.na.drop(how='all').show()"
   ]
  },
  {
   "cell_type": "code",
   "execution_count": 8,
   "id": "239985cf",
   "metadata": {},
   "outputs": [
    {
     "name": "stdout",
     "output_type": "stream",
     "text": [
      "+---------+----+----------+------+\n",
      "|     Name| Age|Experience|Salary|\n",
      "+---------+----+----------+------+\n",
      "| muhammed|  25|         2|  5000|\n",
      "|    Ahmed|  32|         6|  7000|\n",
      "|Abdulaziz|  53|        25| 40000|\n",
      "|   Sherif|  44|        14| 30000|\n",
      "|  hussien|  46|        12| 25000|\n",
      "|      Ali|  29|         6| 11000|\n",
      "|     Zein|  38|         8| 12000|\n",
      "|     Adam|NULL|      NULL|  NULL|\n",
      "|     NULL|  36|         6|  NULL|\n",
      "+---------+----+----------+------+\n",
      "\n"
     ]
    }
   ],
   "source": [
    "df_pyspark.na.drop(how='all', thresh=1).show()"
   ]
  },
  {
   "cell_type": "code",
   "execution_count": 9,
   "id": "dddbadff",
   "metadata": {},
   "outputs": [
    {
     "name": "stdout",
     "output_type": "stream",
     "text": [
      "+---------+---+----------+------+\n",
      "|     Name|Age|Experience|Salary|\n",
      "+---------+---+----------+------+\n",
      "| muhammed| 25|         2|  5000|\n",
      "|    Ahmed| 32|         6|  7000|\n",
      "|Abdulaziz| 53|        25| 40000|\n",
      "|   Sherif| 44|        14| 30000|\n",
      "|  hussien| 46|        12| 25000|\n",
      "|      Ali| 29|         6| 11000|\n",
      "|     Zein| 38|         8| 12000|\n",
      "+---------+---+----------+------+\n",
      "\n"
     ]
    }
   ],
   "source": [
    "df_pyspark.na.drop(how='any', subset=['salary']).show()"
   ]
  },
  {
   "cell_type": "markdown",
   "id": "d16f41b8",
   "metadata": {},
   "source": [
    "## Fill The Missing Value"
   ]
  },
  {
   "cell_type": "code",
   "execution_count": 10,
   "id": "a2d055ee",
   "metadata": {
    "scrolled": true
   },
   "outputs": [
    {
     "name": "stdout",
     "output_type": "stream",
     "text": [
      "+---------+----+----------+------+\n",
      "|     Name| Age|Experience|Salary|\n",
      "+---------+----+----------+------+\n",
      "| muhammed|  25|         2|  5000|\n",
      "|    Ahmed|  32|         6|  7000|\n",
      "|Abdulaziz|  53|        25| 40000|\n",
      "|   Sherif|  44|        14| 30000|\n",
      "|  hussien|  46|        12| 25000|\n",
      "|      Ali|  29|         6| 11000|\n",
      "|     Zein|  38|         8| 12000|\n",
      "|     Adam|NULL|      NULL|  NULL|\n",
      "|     NULL|  36|         6|  NULL|\n",
      "+---------+----+----------+------+\n",
      "\n"
     ]
    }
   ],
   "source": [
    "# df_pyspark = df_pyspark.na.fill('Missing Value')\n",
    "# df_pyspark = df_pyspark.na.fill(0)\n",
    "df_pyspark.show()\n"
   ]
  },
  {
   "cell_type": "code",
   "execution_count": 11,
   "id": "14ec8c45",
   "metadata": {},
   "outputs": [],
   "source": [
    "from pyspark.ml.feature import Imputer "
   ]
  },
  {
   "cell_type": "code",
   "execution_count": 12,
   "id": "4643d660",
   "metadata": {},
   "outputs": [],
   "source": [
    "imputer = Imputer(\n",
    "                    inputCols=['Age','Experience','Salary'],\n",
    "                   outputCols=[f\"{c}_imputed\" for c in['Age','Experience','Salary']]\n",
    "                 ).setStrategy(\"mean\")"
   ]
  },
  {
   "cell_type": "code",
   "execution_count": 14,
   "id": "7f082153",
   "metadata": {},
   "outputs": [
    {
     "name": "stdout",
     "output_type": "stream",
     "text": [
      "+---------+----+----------+------+-----------+------------------+--------------+\n",
      "|     Name| Age|Experience|Salary|Age_imputed|Experience_imputed|Salary_imputed|\n",
      "+---------+----+----------+------+-----------+------------------+--------------+\n",
      "| muhammed|  25|         2|  5000|         25|                 2|          5000|\n",
      "|    Ahmed|  32|         6|  7000|         32|                 6|          7000|\n",
      "|Abdulaziz|  53|        25| 40000|         53|                25|         40000|\n",
      "|   Sherif|  44|        14| 30000|         44|                14|         30000|\n",
      "|  hussien|  46|        12| 25000|         46|                12|         25000|\n",
      "|      Ali|  29|         6| 11000|         29|                 6|         11000|\n",
      "|     Zein|  38|         8| 12000|         38|                 8|         12000|\n",
      "|     Adam|NULL|      NULL|  NULL|         37|                 9|         18571|\n",
      "|     NULL|  36|         6|  NULL|         36|                 6|         18571|\n",
      "+---------+----+----------+------+-----------+------------------+--------------+\n",
      "\n"
     ]
    }
   ],
   "source": [
    "imputer.fit(df_pyspark).transform(df_pyspark).show()"
   ]
  },
  {
   "cell_type": "code",
   "execution_count": null,
   "id": "c524f131",
   "metadata": {},
   "outputs": [],
   "source": []
  }
 ],
 "metadata": {
  "kernelspec": {
   "display_name": "Python 3 (ipykernel)",
   "language": "python",
   "name": "python3"
  },
  "language_info": {
   "codemirror_mode": {
    "name": "ipython",
    "version": 3
   },
   "file_extension": ".py",
   "mimetype": "text/x-python",
   "name": "python",
   "nbconvert_exporter": "python",
   "pygments_lexer": "ipython3",
   "version": "3.9.13"
  }
 },
 "nbformat": 4,
 "nbformat_minor": 5
}
