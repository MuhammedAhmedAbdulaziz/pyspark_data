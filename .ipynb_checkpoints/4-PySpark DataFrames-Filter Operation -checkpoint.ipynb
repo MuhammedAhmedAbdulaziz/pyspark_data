{
 "cells": [
  {
   "cell_type": "markdown",
   "id": "420632f9",
   "metadata": {},
   "source": [
    "# PySpark Dataframes\n",
    "1. Filter Operation\n",
    "2. & , | , ==\n",
    "3. ~"
   ]
  },
  {
   "cell_type": "code",
   "execution_count": 1,
   "id": "0195561c",
   "metadata": {},
   "outputs": [],
   "source": [
    "from pyspark.sql import SparkSession"
   ]
  },
  {
   "cell_type": "code",
   "execution_count": 3,
   "id": "099ee980",
   "metadata": {},
   "outputs": [],
   "source": [
    "spark = SparkSession.builder.appName('dataframe').getOrCreate()"
   ]
  },
  {
   "cell_type": "code",
   "execution_count": 5,
   "id": "e15cbe64",
   "metadata": {},
   "outputs": [
    {
     "name": "stdout",
     "output_type": "stream",
     "text": [
      "+---------+---+----------+------+\n",
      "|     Name|Age|Experience|Salary|\n",
      "+---------+---+----------+------+\n",
      "| muhammed| 25|         2|  5000|\n",
      "|    Ahmed| 32|         6|  7000|\n",
      "|Abdulaziz| 53|        25| 40000|\n",
      "|   Sherif| 44|        14| 30000|\n",
      "|  hussien| 46|        12| 25000|\n",
      "|      Ali| 29|         6| 11000|\n",
      "+---------+---+----------+------+\n",
      "\n"
     ]
    }
   ],
   "source": [
    "df_pyspark = spark.read.csv('test1.csv', header='True', inferSchema='True')\n",
    "df_pyspark.show()"
   ]
  },
  {
   "cell_type": "markdown",
   "id": "e978d69d",
   "metadata": {},
   "source": [
    "# 1. Filter Operation\n"
   ]
  },
  {
   "cell_type": "code",
   "execution_count": 11,
   "id": "1bee6d1c",
   "metadata": {},
   "outputs": [
    {
     "name": "stdout",
     "output_type": "stream",
     "text": [
      "+---------+---+\n",
      "|     name|age|\n",
      "+---------+---+\n",
      "|Abdulaziz| 53|\n",
      "|   Sherif| 44|\n",
      "|  hussien| 46|\n",
      "+---------+---+\n",
      "\n"
     ]
    }
   ],
   "source": [
    "#show me the pepole his salaries > 25000, Only the name and age columns\n",
    "df_pyspark.filter('salary>=25000').select('name','age').show()"
   ]
  },
  {
   "cell_type": "code",
   "execution_count": 15,
   "id": "fab8d5e0",
   "metadata": {
    "scrolled": true
   },
   "outputs": [
    {
     "name": "stdout",
     "output_type": "stream",
     "text": [
      "+---------+------+\n",
      "|     name|salary|\n",
      "+---------+------+\n",
      "|Abdulaziz| 40000|\n",
      "|   Sherif| 30000|\n",
      "|  hussien| 25000|\n",
      "+---------+------+\n",
      "\n"
     ]
    }
   ],
   "source": [
    "#the same of the above\n",
    "df_pyspark.filter(df_pyspark['salary']>=25000).select('name','salary').show()"
   ]
  },
  {
   "cell_type": "markdown",
   "id": "0dc8a6d7",
   "metadata": {},
   "source": [
    "# 2. & , | , ==\n"
   ]
  },
  {
   "cell_type": "code",
   "execution_count": 20,
   "id": "a5e633e7",
   "metadata": {},
   "outputs": [
    {
     "name": "stdout",
     "output_type": "stream",
     "text": [
      "+-------+------+----------+\n",
      "|   name|salary|experience|\n",
      "+-------+------+----------+\n",
      "| Sherif| 30000|        14|\n",
      "|hussien| 25000|        12|\n",
      "+-------+------+----------+\n",
      "\n"
     ]
    }
   ],
   "source": [
    "df_pyspark.filter((df_pyspark['salary']>=25000) & (df_pyspark['salary']<40000)).select('name','salary','experience').show()"
   ]
  },
  {
   "cell_type": "code",
   "execution_count": 21,
   "id": "46f2a642",
   "metadata": {},
   "outputs": [
    {
     "name": "stdout",
     "output_type": "stream",
     "text": [
      "+---------+------+----------+\n",
      "|     name|salary|experience|\n",
      "+---------+------+----------+\n",
      "| muhammed|  5000|         2|\n",
      "|    Ahmed|  7000|         6|\n",
      "|Abdulaziz| 40000|        25|\n",
      "|   Sherif| 30000|        14|\n",
      "|  hussien| 25000|        12|\n",
      "|      Ali| 11000|         6|\n",
      "+---------+------+----------+\n",
      "\n"
     ]
    }
   ],
   "source": [
    "#here give me all the dataset because the the second condition \n",
    "df_pyspark.filter((df_pyspark['salary']>=25000) | (df_pyspark['salary']<40000)).select('name','salary','experience').show()"
   ]
  },
  {
   "cell_type": "markdown",
   "id": "18a986d1",
   "metadata": {},
   "source": [
    "# 3. ~"
   ]
  },
  {
   "cell_type": "code",
   "execution_count": 22,
   "id": "73445425",
   "metadata": {},
   "outputs": [
    {
     "name": "stdout",
     "output_type": "stream",
     "text": [
      "+--------+------+----------+\n",
      "|    name|salary|experience|\n",
      "+--------+------+----------+\n",
      "|muhammed|  5000|         2|\n",
      "|   Ahmed|  7000|         6|\n",
      "|     Ali| 11000|         6|\n",
      "+--------+------+----------+\n",
      "\n"
     ]
    }
   ],
   "source": [
    "# ~ => not\n",
    "df_pyspark.filter(~(df_pyspark['salary']>=25000)).select('name','salary', 'experience').show()"
   ]
  }
 ],
 "metadata": {
  "kernelspec": {
   "display_name": "Python 3 (ipykernel)",
   "language": "python",
   "name": "python3"
  },
  "language_info": {
   "codemirror_mode": {
    "name": "ipython",
    "version": 3
   },
   "file_extension": ".py",
   "mimetype": "text/x-python",
   "name": "python",
   "nbconvert_exporter": "python",
   "pygments_lexer": "ipython3",
   "version": "3.9.13"
  }
 },
 "nbformat": 4,
 "nbformat_minor": 5
}
