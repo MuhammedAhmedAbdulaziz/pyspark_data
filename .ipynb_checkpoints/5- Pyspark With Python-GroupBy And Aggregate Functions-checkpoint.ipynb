{
 "cells": [
  {
   "cell_type": "code",
   "execution_count": 1,
   "id": "dd8d48e8",
   "metadata": {},
   "outputs": [
    {
     "data": {
      "text/html": [
       "\n",
       "            <div>\n",
       "                <p><b>SparkSession - in-memory</b></p>\n",
       "                \n",
       "        <div>\n",
       "            <p><b>SparkContext</b></p>\n",
       "\n",
       "            <p><a href=\"http://DESKTOP-LG08P3L:4043\">Spark UI</a></p>\n",
       "\n",
       "            <dl>\n",
       "              <dt>Version</dt>\n",
       "                <dd><code>v3.5.4</code></dd>\n",
       "              <dt>Master</dt>\n",
       "                <dd><code>local[*]</code></dd>\n",
       "              <dt>AppName</dt>\n",
       "                <dd><code>agg</code></dd>\n",
       "            </dl>\n",
       "        </div>\n",
       "        \n",
       "            </div>\n",
       "        "
      ],
      "text/plain": [
       "<pyspark.sql.session.SparkSession at 0x27b04a7f700>"
      ]
     },
     "execution_count": 1,
     "metadata": {},
     "output_type": "execute_result"
    }
   ],
   "source": [
    "from pyspark.sql import SparkSession\n",
    "spark = SparkSession.builder.appName('agg').getOrCreate()\n",
    "spark"
   ]
  },
  {
   "cell_type": "code",
   "execution_count": 2,
   "id": "13a9da07",
   "metadata": {},
   "outputs": [],
   "source": [
    "df_pyspark = spark.read.csv('test3.csv', header='true', inferSchema='true')"
   ]
  },
  {
   "cell_type": "code",
   "execution_count": 3,
   "id": "982b1087",
   "metadata": {},
   "outputs": [
    {
     "name": "stdout",
     "output_type": "stream",
     "text": [
      "+--------+-------------+------+\n",
      "|    Name|   Department|Salary|\n",
      "+--------+-------------+------+\n",
      "|muhammed| Data Science| 10000|\n",
      "|   Ahmed|          IOT|  5000|\n",
      "|muhammed|     Big Data|  4000|\n",
      "|  Sherif|     Big Data|  4000|\n",
      "|muhammed| Data Science|  3000|\n",
      "|muhammed| Data Science| 20000|\n",
      "|    Adam|          IOT| 10000|\n",
      "|    Adam|     Big Data|  6000|\n",
      "|  Sherif| Data Science| 10000|\n",
      "|    Adam|     Big Data|  6000|\n",
      "+--------+-------------+------+\n",
      "\n"
     ]
    }
   ],
   "source": [
    "df_pyspark.show()"
   ]
  },
  {
   "cell_type": "code",
   "execution_count": 4,
   "id": "68557b40",
   "metadata": {},
   "outputs": [
    {
     "name": "stdout",
     "output_type": "stream",
     "text": [
      "root\n",
      " |-- Name: string (nullable = true)\n",
      " |-- Department: string (nullable = true)\n",
      " |-- Salary: integer (nullable = true)\n",
      "\n"
     ]
    }
   ],
   "source": [
    "df_pyspark.printSchema()"
   ]
  },
  {
   "cell_type": "markdown",
   "id": "00f0a012",
   "metadata": {},
   "source": [
    "## Grouped by Name\n",
    "### Grouped to find the maximum Name salary \n"
   ]
  },
  {
   "cell_type": "code",
   "execution_count": null,
   "id": "5159dbad",
   "metadata": {},
   "outputs": [],
   "source": [
    "df_pyspark.groupBy('name').sum().show()"
   ]
  },
  {
   "cell_type": "markdown",
   "id": "587a2c09",
   "metadata": {},
   "source": [
    "## Grouped by Department\n"
   ]
  },
  {
   "cell_type": "code",
   "execution_count": 9,
   "id": "fda5f737",
   "metadata": {},
   "outputs": [
    {
     "name": "stdout",
     "output_type": "stream",
     "text": [
      "+-------------+-----------+\n",
      "|   Department|sum(Salary)|\n",
      "+-------------+-----------+\n",
      "|          IOT|      15000|\n",
      "| Data Science|      43000|\n",
      "|     Big Data|      20000|\n",
      "+-------------+-----------+\n",
      "\n"
     ]
    }
   ],
   "source": [
    "### Grouped to find the maximum Department salary \n",
    "df_pyspark.groupBy('Department').sum().show()"
   ]
  },
  {
   "cell_type": "code",
   "execution_count": 10,
   "id": "c46b69b6",
   "metadata": {},
   "outputs": [
    {
     "name": "stdout",
     "output_type": "stream",
     "text": [
      "+-------------+-----------+\n",
      "|   Department|avg(Salary)|\n",
      "+-------------+-----------+\n",
      "|          IOT|     7500.0|\n",
      "| Data Science|    10750.0|\n",
      "|     Big Data|     5000.0|\n",
      "+-------------+-----------+\n",
      "\n"
     ]
    }
   ],
   "source": [
    "### Grouped to find the mean Department salary \n",
    "df_pyspark.groupBy('Department').mean().show()"
   ]
  },
  {
   "cell_type": "code",
   "execution_count": 12,
   "id": "bf046efe",
   "metadata": {},
   "outputs": [
    {
     "name": "stdout",
     "output_type": "stream",
     "text": [
      "+-------------+-----+\n",
      "|   Department|count|\n",
      "+-------------+-----+\n",
      "|          IOT|    2|\n",
      "| Data Science|    4|\n",
      "|     Big Data|    4|\n",
      "+-------------+-----+\n",
      "\n"
     ]
    }
   ],
   "source": [
    "### Grouped to find how many employee work in the Department  \n",
    "df_pyspark.groupBy('Department').count().show()"
   ]
  },
  {
   "cell_type": "markdown",
   "id": "1547a410",
   "metadata": {},
   "source": [
    "# Aggregate on the entire `DataFrame` without groups"
   ]
  },
  {
   "cell_type": "code",
   "execution_count": 14,
   "id": "09e4bb9d",
   "metadata": {},
   "outputs": [
    {
     "name": "stdout",
     "output_type": "stream",
     "text": [
      "+-----------+\n",
      "|sum(salary)|\n",
      "+-----------+\n",
      "|      78000|\n",
      "+-----------+\n",
      "\n"
     ]
    }
   ],
   "source": [
    "df_pyspark.agg({'salary':'sum'}).show()"
   ]
  },
  {
   "cell_type": "code",
   "execution_count": 17,
   "id": "d9e3ae46",
   "metadata": {},
   "outputs": [
    {
     "name": "stdout",
     "output_type": "stream",
     "text": [
      "+-----------------+\n",
      "|count(Department)|\n",
      "+-----------------+\n",
      "|               10|\n",
      "+-----------------+\n",
      "\n"
     ]
    }
   ],
   "source": [
    "df_pyspark.agg({'Department':'count'}).show()"
   ]
  },
  {
   "cell_type": "code",
   "execution_count": 18,
   "id": "2329769a",
   "metadata": {},
   "outputs": [
    {
     "name": "stdout",
     "output_type": "stream",
     "text": [
      "+-----------+\n",
      "|avg(salary)|\n",
      "+-----------+\n",
      "|     7800.0|\n",
      "+-----------+\n",
      "\n"
     ]
    }
   ],
   "source": [
    "df_pyspark.agg({'salary':'mean'}).show()"
   ]
  },
  {
   "cell_type": "code",
   "execution_count": null,
   "id": "dac1e65c",
   "metadata": {},
   "outputs": [],
   "source": []
  },
  {
   "cell_type": "code",
   "execution_count": null,
   "id": "76764852",
   "metadata": {},
   "outputs": [],
   "source": []
  }
 ],
 "metadata": {
  "kernelspec": {
   "display_name": "Python 3 (ipykernel)",
   "language": "python",
   "name": "python3"
  },
  "language_info": {
   "codemirror_mode": {
    "name": "ipython",
    "version": 3
   },
   "file_extension": ".py",
   "mimetype": "text/x-python",
   "name": "python",
   "nbconvert_exporter": "python",
   "pygments_lexer": "ipython3",
   "version": "3.9.13"
  }
 },
 "nbformat": 4,
 "nbformat_minor": 5
}
