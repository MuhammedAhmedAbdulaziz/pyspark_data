{
 "cells": [
  {
   "cell_type": "markdown",
   "id": "60f184db",
   "metadata": {},
   "source": [
    "# MLlib is Spark’s machine learning (ML) library. Its goal is to make practical machine learning scalable and easy. At a high level, it provides tools such as:\n",
    "\n",
    "### 1. ML Algorithms: common learning algorithms such as classification, regression, clustering, and collaborative filtering\n",
    "### 2. Featurization: feature extraction, transformation, dimensionality reduction, and selection\n",
    "### 3. Pipelines: tools for constructing, evaluating, and tuning ML Pipelines\n",
    "### 4. Persistence: saving and load algorithms, models, and Pipelines\n",
    "### 5. Utilities: linear algebra, statistics, data handling, etc."
   ]
  },
  {
   "cell_type": "code",
   "execution_count": 1,
   "id": "b04c730e",
   "metadata": {},
   "outputs": [
    {
     "data": {
      "text/html": [
       "\n",
       "            <div>\n",
       "                <p><b>SparkSession - in-memory</b></p>\n",
       "                \n",
       "        <div>\n",
       "            <p><b>SparkContext</b></p>\n",
       "\n",
       "            <p><a href=\"http://DESKTOP-LG08P3L:4044\">Spark UI</a></p>\n",
       "\n",
       "            <dl>\n",
       "              <dt>Version</dt>\n",
       "                <dd><code>v3.5.4</code></dd>\n",
       "              <dt>Master</dt>\n",
       "                <dd><code>local[*]</code></dd>\n",
       "              <dt>AppName</dt>\n",
       "                <dd><code>mlib</code></dd>\n",
       "            </dl>\n",
       "        </div>\n",
       "        \n",
       "            </div>\n",
       "        "
      ],
      "text/plain": [
       "<pyspark.sql.session.SparkSession at 0x14d54780700>"
      ]
     },
     "execution_count": 1,
     "metadata": {},
     "output_type": "execute_result"
    }
   ],
   "source": [
    "\n",
    "from pyspark.sql import SparkSession\n",
    "spark = SparkSession.builder.appName('mlib').getOrCreate()\n",
    "spark"
   ]
  },
  {
   "cell_type": "code",
   "execution_count": 6,
   "id": "f5f7fc64",
   "metadata": {},
   "outputs": [],
   "source": [
    "training = spark.read.csv('test1.csv', header='true', inferSchema='true')\n"
   ]
  },
  {
   "cell_type": "code",
   "execution_count": 7,
   "id": "ab3a7502",
   "metadata": {},
   "outputs": [
    {
     "name": "stdout",
     "output_type": "stream",
     "text": [
      "+---------+---+----------+------+\n",
      "|     Name|Age|Experience|Salary|\n",
      "+---------+---+----------+------+\n",
      "| muhammed| 25|         2|  5000|\n",
      "|    Ahmed| 32|         6|  7000|\n",
      "|Abdulaziz| 53|        25| 40000|\n",
      "|   Sherif| 44|        14| 30000|\n",
      "|  hussien| 46|        12| 25000|\n",
      "|      Ali| 29|         6| 11000|\n",
      "+---------+---+----------+------+\n",
      "\n"
     ]
    }
   ],
   "source": [
    "training.show()"
   ]
  },
  {
   "cell_type": "code",
   "execution_count": 11,
   "id": "6423157a",
   "metadata": {},
   "outputs": [
    {
     "data": {
      "text/plain": [
       "['Catalog',\n",
       " 'Column',\n",
       " 'DataFrame',\n",
       " 'DataFrameNaFunctions',\n",
       " 'DataFrameReader',\n",
       " 'DataFrameStatFunctions',\n",
       " 'DataFrameWriter',\n",
       " 'DataFrameWriterV2',\n",
       " 'GroupedData',\n",
       " 'HiveContext',\n",
       " 'Observation',\n",
       " 'PandasCogroupedOps',\n",
       " 'Row',\n",
       " 'SQLContext',\n",
       " 'SparkSession',\n",
       " 'UDFRegistration',\n",
       " 'UDTFRegistration',\n",
       " 'Window',\n",
       " 'WindowSpec',\n",
       " '__all__',\n",
       " '__builtins__',\n",
       " '__cached__',\n",
       " '__doc__',\n",
       " '__file__',\n",
       " '__loader__',\n",
       " '__name__',\n",
       " '__package__',\n",
       " '__path__',\n",
       " '__spec__',\n",
       " 'catalog',\n",
       " 'column',\n",
       " 'conf',\n",
       " 'context',\n",
       " 'dataframe',\n",
       " 'functions',\n",
       " 'group',\n",
       " 'observation',\n",
       " 'pandas',\n",
       " 'readwriter',\n",
       " 'session',\n",
       " 'sql_formatter',\n",
       " 'streaming',\n",
       " 'types',\n",
       " 'udf',\n",
       " 'udtf',\n",
       " 'utils',\n",
       " 'window']"
      ]
     },
     "execution_count": 11,
     "metadata": {},
     "output_type": "execute_result"
    }
   ],
   "source": [
    "import pyspark\n",
    "(dir(pyspark.sql))"
   ]
  }
 ],
 "metadata": {
  "kernelspec": {
   "display_name": "Python 3 (ipykernel)",
   "language": "python",
   "name": "python3"
  },
  "language_info": {
   "codemirror_mode": {
    "name": "ipython",
    "version": 3
   },
   "file_extension": ".py",
   "mimetype": "text/x-python",
   "name": "python",
   "nbconvert_exporter": "python",
   "pygments_lexer": "ipython3",
   "version": "3.9.13"
  }
 },
 "nbformat": 4,
 "nbformat_minor": 5
}
