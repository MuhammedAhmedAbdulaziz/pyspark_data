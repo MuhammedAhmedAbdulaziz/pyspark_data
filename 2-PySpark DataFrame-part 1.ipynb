{
 "cells": [
  {
   "cell_type": "markdown",
   "id": "8f435ff3",
   "metadata": {},
   "source": [
    "# Most of PySpark Functionality are Similar to Pandas\n",
    "1. PySpark Dataframe\n",
    "2. Reading The Dataset\n",
    "3. Checking the Datatypes of the Column(Schema)\n",
    "4. Selecting Columns And Indexing\n",
    "5. Check Describe option similar to Pandas\n",
    "6. Adding Columns\n",
    "7. Dropping columns \n",
    "8. Rename The Column"
   ]
  },
  {
   "cell_type": "markdown",
   "id": "03e46793",
   "metadata": {},
   "source": [
    "# 1. PySpark Dataframe \n",
    "**A DataFrame is a data Structure like a table in Excel or Google Sheets:**\n",
    "\n",
    "- **Rows:** Each row is a record (e.g., information about one person).\n",
    "- **Columns:** Each column is a feature or attribute (e.g., \"Name,\" \"Age\").\n",
    "- **Pandas DataFrame:** Works on small data (fits in memory).\n",
    "- **PySpark DataFrame:** Works on huge data (distributed across a cluster).\n",
    "\n"
   ]
  },
  {
   "cell_type": "code",
   "execution_count": 1,
   "id": "684eef02",
   "metadata": {},
   "outputs": [],
   "source": [
    "from pyspark.sql import SparkSession"
   ]
  },
  {
   "cell_type": "code",
   "execution_count": 2,
   "id": "ffbf87df",
   "metadata": {},
   "outputs": [],
   "source": [
    "spark = SparkSession.builder.appName('DataFrame').getOrCreate()"
   ]
  },
  {
   "cell_type": "code",
   "execution_count": 3,
   "id": "52a38773",
   "metadata": {},
   "outputs": [
    {
     "data": {
      "text/html": [
       "\n",
       "            <div>\n",
       "                <p><b>SparkSession - in-memory</b></p>\n",
       "                \n",
       "        <div>\n",
       "            <p><b>SparkContext</b></p>\n",
       "\n",
       "            <p><a href=\"http://DESKTOP-LG08P3L:4041\">Spark UI</a></p>\n",
       "\n",
       "            <dl>\n",
       "              <dt>Version</dt>\n",
       "                <dd><code>v3.5.4</code></dd>\n",
       "              <dt>Master</dt>\n",
       "                <dd><code>local[*]</code></dd>\n",
       "              <dt>AppName</dt>\n",
       "                <dd><code>DataFrame</code></dd>\n",
       "            </dl>\n",
       "        </div>\n",
       "        \n",
       "            </div>\n",
       "        "
      ],
      "text/plain": [
       "<pyspark.sql.session.SparkSession at 0x1b7bc74adf0>"
      ]
     },
     "execution_count": 3,
     "metadata": {},
     "output_type": "execute_result"
    }
   ],
   "source": [
    "spark"
   ]
  },
  {
   "cell_type": "markdown",
   "id": "9b56eb1d",
   "metadata": {},
   "source": [
    "# 2. Reading The Dataset\n",
    "\n"
   ]
  },
  {
   "cell_type": "code",
   "execution_count": 4,
   "id": "647358ec",
   "metadata": {},
   "outputs": [
    {
     "name": "stdout",
     "output_type": "stream",
     "text": [
      "+---------+---+----------+\n",
      "|     Name|Age|experience|\n",
      "+---------+---+----------+\n",
      "|  Muhamed| 25|        10|\n",
      "|    Ahmed| 30|         7|\n",
      "|Abdulaziz| 50|        25|\n",
      "+---------+---+----------+\n",
      "\n"
     ]
    }
   ],
   "source": [
    "## reading the dataset\n",
    "'''\n",
    "inferSchema='True' => to prevent the pyspark from reading dataType by default as string \n",
    "and update the integer dataType to integer instesd of string\n",
    "'''\n",
    "df_pyspark = spark.read.option('header','true').csv('test1.csv', inferSchema='True')\n",
    "df_pyspark.show()"
   ]
  },
  {
   "cell_type": "markdown",
   "id": "0c8d8440",
   "metadata": {},
   "source": [
    "# 3. Checking the Datatypes of the Column(Schema)\n"
   ]
  },
  {
   "cell_type": "code",
   "execution_count": 5,
   "id": "97aa4b80",
   "metadata": {},
   "outputs": [
    {
     "name": "stdout",
     "output_type": "stream",
     "text": [
      "root\n",
      " |-- Name: string (nullable = true)\n",
      " |-- Age: integer (nullable = true)\n",
      " |-- experience: integer (nullable = true)\n",
      "\n"
     ]
    }
   ],
   "source": [
    "## check the schema => basicly mean the dataTypes\n",
    "df_pyspark.printSchema()"
   ]
  },
  {
   "cell_type": "code",
   "execution_count": 6,
   "id": "f05264b5",
   "metadata": {},
   "outputs": [
    {
     "data": {
      "text/plain": [
       "pyspark.sql.dataframe.DataFrame"
      ]
     },
     "execution_count": 6,
     "metadata": {},
     "output_type": "execute_result"
    }
   ],
   "source": [
    "type(df_pyspark)"
   ]
  },
  {
   "cell_type": "code",
   "execution_count": 7,
   "id": "bbc1ab49",
   "metadata": {},
   "outputs": [
    {
     "data": {
      "text/plain": [
       "['Name', 'Age', 'experience']"
      ]
     },
     "execution_count": 7,
     "metadata": {},
     "output_type": "execute_result"
    }
   ],
   "source": [
    "df_pyspark.columns"
   ]
  },
  {
   "cell_type": "code",
   "execution_count": 8,
   "id": "12f5c6d9",
   "metadata": {},
   "outputs": [
    {
     "data": {
      "text/plain": [
       "Row(Name='Muhamed', Age=25, experience=10)"
      ]
     },
     "execution_count": 8,
     "metadata": {},
     "output_type": "execute_result"
    }
   ],
   "source": [
    "df_pyspark.head()"
   ]
  },
  {
   "cell_type": "code",
   "execution_count": 9,
   "id": "0720e35c",
   "metadata": {},
   "outputs": [
    {
     "data": {
      "text/plain": [
       "[Row(Name='Muhamed', Age=25, experience=10)]"
      ]
     },
     "execution_count": 9,
     "metadata": {},
     "output_type": "execute_result"
    }
   ],
   "source": [
    "df_pyspark.head(1)"
   ]
  },
  {
   "cell_type": "code",
   "execution_count": 10,
   "id": "5477e717",
   "metadata": {},
   "outputs": [
    {
     "data": {
      "text/plain": [
       "[Row(Name='Muhamed', Age=25, experience=10),\n",
       " Row(Name='Ahmed', Age=30, experience=7)]"
      ]
     },
     "execution_count": 10,
     "metadata": {},
     "output_type": "execute_result"
    }
   ],
   "source": [
    "df_pyspark.head(2)"
   ]
  },
  {
   "cell_type": "code",
   "execution_count": 11,
   "id": "3ea17d5f",
   "metadata": {},
   "outputs": [
    {
     "data": {
      "text/plain": [
       "[Row(Name='Muhamed', Age=25, experience=10),\n",
       " Row(Name='Ahmed', Age=30, experience=7),\n",
       " Row(Name='Abdulaziz', Age=50, experience=25)]"
      ]
     },
     "execution_count": 11,
     "metadata": {},
     "output_type": "execute_result"
    }
   ],
   "source": [
    "df_pyspark.head(3)"
   ]
  },
  {
   "cell_type": "code",
   "execution_count": 12,
   "id": "41d53506",
   "metadata": {},
   "outputs": [
    {
     "data": {
      "text/plain": [
       "[Row(Name='Muhamed', Age=25, experience=10),\n",
       " Row(Name='Ahmed', Age=30, experience=7),\n",
       " Row(Name='Abdulaziz', Age=50, experience=25)]"
      ]
     },
     "execution_count": 12,
     "metadata": {},
     "output_type": "execute_result"
    }
   ],
   "source": [
    "df_pyspark.head(4)"
   ]
  },
  {
   "cell_type": "code",
   "execution_count": 13,
   "id": "1fd944a9",
   "metadata": {},
   "outputs": [
    {
     "name": "stdout",
     "output_type": "stream",
     "text": [
      "+---------+---+----------+\n",
      "|     Name|Age|experience|\n",
      "+---------+---+----------+\n",
      "|  Muhamed| 25|        10|\n",
      "|    Ahmed| 30|         7|\n",
      "|Abdulaziz| 50|        25|\n",
      "+---------+---+----------+\n",
      "\n"
     ]
    }
   ],
   "source": [
    "df_pyspark.show()"
   ]
  },
  {
   "cell_type": "markdown",
   "id": "08d408eb",
   "metadata": {},
   "source": [
    "# 4. Selecting Columns And Indexing\n"
   ]
  },
  {
   "cell_type": "code",
   "execution_count": 14,
   "id": "8263dc1c",
   "metadata": {},
   "outputs": [
    {
     "data": {
      "text/plain": [
       "DataFrame[Name: string]"
      ]
     },
     "execution_count": 14,
     "metadata": {},
     "output_type": "execute_result"
    }
   ],
   "source": [
    "df_pyspark.select('Name')"
   ]
  },
  {
   "cell_type": "code",
   "execution_count": 15,
   "id": "c6cb5357",
   "metadata": {},
   "outputs": [
    {
     "data": {
      "text/plain": [
       "pyspark.sql.dataframe.DataFrame"
      ]
     },
     "execution_count": 15,
     "metadata": {},
     "output_type": "execute_result"
    }
   ],
   "source": [
    "type(df_pyspark.select('Name'))"
   ]
  },
  {
   "cell_type": "code",
   "execution_count": 16,
   "id": "a60a6f19",
   "metadata": {},
   "outputs": [
    {
     "name": "stdout",
     "output_type": "stream",
     "text": [
      "+---------+\n",
      "|     Name|\n",
      "+---------+\n",
      "|  Muhamed|\n",
      "|    Ahmed|\n",
      "|Abdulaziz|\n",
      "+---------+\n",
      "\n"
     ]
    }
   ],
   "source": [
    "df_pyspark.select('Name').show() # in pandas => df_pyspark['Name']"
   ]
  },
  {
   "cell_type": "code",
   "execution_count": 17,
   "id": "70548161",
   "metadata": {},
   "outputs": [
    {
     "name": "stdout",
     "output_type": "stream",
     "text": [
      "+---+\n",
      "|age|\n",
      "+---+\n",
      "| 25|\n",
      "| 30|\n",
      "| 50|\n",
      "+---+\n",
      "\n"
     ]
    }
   ],
   "source": [
    "df_pyspark.select('age').show()"
   ]
  },
  {
   "cell_type": "code",
   "execution_count": 18,
   "id": "60f451ef",
   "metadata": {},
   "outputs": [
    {
     "name": "stdout",
     "output_type": "stream",
     "text": [
      "+----------+\n",
      "|experience|\n",
      "+----------+\n",
      "|        10|\n",
      "|         7|\n",
      "|        25|\n",
      "+----------+\n",
      "\n"
     ]
    }
   ],
   "source": [
    "df_pyspark.select('experience').show()"
   ]
  },
  {
   "cell_type": "code",
   "execution_count": 19,
   "id": "e2175798",
   "metadata": {},
   "outputs": [
    {
     "name": "stdout",
     "output_type": "stream",
     "text": [
      "+---------+---+\n",
      "|     Name|age|\n",
      "+---------+---+\n",
      "|  Muhamed| 25|\n",
      "|    Ahmed| 30|\n",
      "|Abdulaziz| 50|\n",
      "+---------+---+\n",
      "\n"
     ]
    }
   ],
   "source": [
    "df_pyspark.select(['Name','age']).show()"
   ]
  },
  {
   "cell_type": "code",
   "execution_count": 20,
   "id": "54b4011f",
   "metadata": {},
   "outputs": [
    {
     "data": {
      "text/plain": [
       "[('Name', 'string'), ('Age', 'int'), ('experience', 'int')]"
      ]
     },
     "execution_count": 20,
     "metadata": {},
     "output_type": "execute_result"
    }
   ],
   "source": [
    "df_pyspark.dtypes"
   ]
  },
  {
   "cell_type": "markdown",
   "id": "aff21ca9",
   "metadata": {},
   "source": [
    "# 5. Check Describe option similar to Pandas\n"
   ]
  },
  {
   "cell_type": "code",
   "execution_count": 21,
   "id": "367a9d23",
   "metadata": {},
   "outputs": [
    {
     "data": {
      "text/plain": [
       "DataFrame[summary: string, Name: string, Age: string, experience: string]"
      ]
     },
     "execution_count": 21,
     "metadata": {},
     "output_type": "execute_result"
    }
   ],
   "source": [
    "df_pyspark.describe()"
   ]
  },
  {
   "cell_type": "code",
   "execution_count": 22,
   "id": "9a7ec53f",
   "metadata": {},
   "outputs": [
    {
     "name": "stdout",
     "output_type": "stream",
     "text": [
      "+-------+---------+------------------+-----------------+\n",
      "|summary|     Name|               Age|       experience|\n",
      "+-------+---------+------------------+-----------------+\n",
      "|  count|        3|                 3|                3|\n",
      "|   mean|     NULL|              35.0|             14.0|\n",
      "| stddev|     NULL|13.228756555322953|9.643650760992955|\n",
      "|    min|Abdulaziz|                25|                7|\n",
      "|    max|  Muhamed|                50|               25|\n",
      "+-------+---------+------------------+-----------------+\n",
      "\n"
     ]
    }
   ],
   "source": [
    "df_pyspark.describe().show()"
   ]
  },
  {
   "cell_type": "markdown",
   "id": "0a629fb5",
   "metadata": {},
   "source": [
    "# 6. Adding Columns\n"
   ]
  },
  {
   "cell_type": "code",
   "execution_count": 30,
   "id": "11dde9d4",
   "metadata": {},
   "outputs": [],
   "source": [
    "df_pyspark = df_pyspark.withColumn('Experience After 2 Years',df_pyspark['experience']+2)\n"
   ]
  },
  {
   "cell_type": "code",
   "execution_count": 31,
   "id": "2be0b840",
   "metadata": {},
   "outputs": [
    {
     "name": "stdout",
     "output_type": "stream",
     "text": [
      "+---------+---+----------+------------------------+\n",
      "|     Name|Age|experience|Experience After 2 Years|\n",
      "+---------+---+----------+------------------------+\n",
      "|  Muhamed| 25|        10|                      12|\n",
      "|    Ahmed| 30|         7|                       9|\n",
      "|Abdulaziz| 50|        25|                      27|\n",
      "+---------+---+----------+------------------------+\n",
      "\n"
     ]
    }
   ],
   "source": [
    "df_pyspark.show()"
   ]
  },
  {
   "cell_type": "markdown",
   "id": "fb379b25",
   "metadata": {},
   "source": [
    "# 7. Dropping columns "
   ]
  },
  {
   "cell_type": "code",
   "execution_count": 32,
   "id": "0f1212de",
   "metadata": {},
   "outputs": [],
   "source": [
    "df_pyspark = df_pyspark.drop('Experience After 2 Years')"
   ]
  },
  {
   "cell_type": "code",
   "execution_count": 33,
   "id": "10d2d428",
   "metadata": {},
   "outputs": [
    {
     "name": "stdout",
     "output_type": "stream",
     "text": [
      "+---------+---+----------+\n",
      "|     Name|Age|experience|\n",
      "+---------+---+----------+\n",
      "|  Muhamed| 25|        10|\n",
      "|    Ahmed| 30|         7|\n",
      "|Abdulaziz| 50|        25|\n",
      "+---------+---+----------+\n",
      "\n"
     ]
    }
   ],
   "source": [
    "df_pyspark.show()"
   ]
  },
  {
   "cell_type": "code",
   "execution_count": 34,
   "id": "04e17fed",
   "metadata": {},
   "outputs": [],
   "source": [
    "df_pyspark = df_pyspark.drop('Experience')"
   ]
  },
  {
   "cell_type": "code",
   "execution_count": 35,
   "id": "8c33be3a",
   "metadata": {},
   "outputs": [
    {
     "name": "stdout",
     "output_type": "stream",
     "text": [
      "+---------+---+\n",
      "|     Name|Age|\n",
      "+---------+---+\n",
      "|  Muhamed| 25|\n",
      "|    Ahmed| 30|\n",
      "|Abdulaziz| 50|\n",
      "+---------+---+\n",
      "\n"
     ]
    }
   ],
   "source": [
    "df_pyspark.show()"
   ]
  },
  {
   "cell_type": "markdown",
   "id": "dde3aa48",
   "metadata": {},
   "source": [
    "# 8. Rename The Column"
   ]
  },
  {
   "cell_type": "code",
   "execution_count": 36,
   "id": "97399b5c",
   "metadata": {},
   "outputs": [],
   "source": [
    "df_pyspark = df_pyspark.withColumnRenamed('name','First Name')"
   ]
  },
  {
   "cell_type": "code",
   "execution_count": 38,
   "id": "6cf51d8c",
   "metadata": {},
   "outputs": [
    {
     "name": "stdout",
     "output_type": "stream",
     "text": [
      "+----------+---+\n",
      "|First Name|Age|\n",
      "+----------+---+\n",
      "|   Muhamed| 25|\n",
      "|     Ahmed| 30|\n",
      "| Abdulaziz| 50|\n",
      "+----------+---+\n",
      "\n"
     ]
    }
   ],
   "source": [
    "df_pyspark.show()"
   ]
  },
  {
   "cell_type": "markdown",
   "id": "bc9dce64",
   "metadata": {},
   "source": []
  }
 ],
 "metadata": {
  "kernelspec": {
   "display_name": "Python 3 (ipykernel)",
   "language": "python",
   "name": "python3"
  },
  "language_info": {
   "codemirror_mode": {
    "name": "ipython",
    "version": 3
   },
   "file_extension": ".py",
   "mimetype": "text/x-python",
   "name": "python",
   "nbconvert_exporter": "python",
   "pygments_lexer": "ipython3",
   "version": "3.9.13"
  }
 },
 "nbformat": 4,
 "nbformat_minor": 5
}
